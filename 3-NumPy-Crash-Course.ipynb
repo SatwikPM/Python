{
 "cells": [
  {
   "cell_type": "markdown",
   "metadata": {},
   "source": [
    "# Numpy "
   ]
  },
  {
   "cell_type": "raw",
   "metadata": {},
   "source": [
    "# numpy pandas matplotlib seaborn bhoke numba scipy spacy beautifulsoup random os sys scikit-learn \n",
    "you have totly 650 packages in python"
   ]
  },
  {
   "cell_type": "code",
   "execution_count": null,
   "metadata": {},
   "outputs": [],
   "source": [
    "lst=[1,2,3]\n",
    "boto3, microsoftazuremgmt\n",
    "sys os"
   ]
  },
  {
   "cell_type": "markdown",
   "metadata": {},
   "source": [
    "NumPy is a general-purpose array-processing package. It provides a high-performance multidimensional array object, and tools for working with these arrays.\n",
    "\n",
    "It is the fundamental package for scientific computing with Python. It contains various features including these important ones:\n",
    "\n",
    "A powerful N-dimensional array object\n",
    "\n",
    "Sophisticated (broadcasting) functions\n",
    "\n",
    "Tools for integrating C/C++ and Fortran code\n",
    "Useful linear algebra, Fourier transform, and random number capabilities"
   ]
  },
  {
   "cell_type": "markdown",
   "metadata": {},
   "source": [
    "# Operations that can be performed with NUMPY\n",
    "\n",
    "1. Importing/Exporting\n",
    "2. Creating an array\n",
    "3. Inspect Property of an Array\n",
    "4. Copying/Sorting/Reshaping\n",
    "5. Adding/Removing Elements\n",
    "6. Combining or Spliting\n",
    "7. Indexing/Subseting/Slicing\n",
    "8. Scalr Math\n",
    "9. Vector Math\n",
    "10. Statistics"
   ]
  },
  {
   "cell_type": "markdown",
   "metadata": {},
   "source": [
    "# Key and Imports\n",
    "\n",
    "arr | A NumPy Array object\n",
    "\n",
    "\n",
    "You’ll also need to import numpy to get started:\n",
    "\n",
    "\n",
    "import numpy as np"
   ]
  },
  {
   "cell_type": "markdown",
   "metadata": {},
   "source": [
    "#### Importing/exporting\n",
    "np.loadtxt('file.txt') | From a text file'\n",
    "\n",
    "np.genfromtxt('file.csv',delimiter=',') | From a CSV file\n",
    "\n",
    "np.savetxt('file.txt',arr,delimiter=' ') | Writes to a text file\n",
    "\n",
    "np.savetxt('file.csv',arr,delimiter=',') | Writes to a CSV file"
   ]
  },
  {
   "cell_type": "markdown",
   "metadata": {},
   "source": [
    "#### Creating Arrays (Generator function)\n",
    "np.array([1,2,3]) | One dimensional array\n",
    "\n",
    "np.array([(1,2,3),(4,5,6)]) | Two dimensional array\n",
    "\n",
    "np.zeros(3) | 1D array of length 3 all values 0\n",
    "\n",
    "np.ones((3,4)) | 3x4 array with all values 1\n",
    "\n",
    "np.eye(5) | 5x5 array of 0 with 1 on diagonal (Identity matrix)\n",
    "\n",
    "np.linspace(0,100,6) | Array of 6 evenly divided values from 0 to 100\n",
    "\n",
    "np.arange(0,10,3) | Array of values from 0 to less than 10 with step 3 (eg [0,3,6,9])\n",
    "\n",
    "np.full((2,3),8) | 2x3 array with all values 8\n",
    "\n",
    "np.random.rand(4,5) | 4x5 array of random floats between 0–1\n",
    "\n",
    "np.random.rand(6,7)*100 | 6x7 array of random floats between 0–100\n",
    "\n",
    "np.random.randint(5,size=(2,3)) | 2x3 array with random ints between 0–4 \n",
    "\n",
    "\n",
    "row*col"
   ]
  },
  {
   "cell_type": "markdown",
   "metadata": {},
   "source": [
    "#### Inspecting Properties\n",
    "\n",
    "\n",
    "arr.size | Returns number of elements in arr\n",
    "\n",
    "arr.shape | Returns dimensions of arr (rows,columns)\n",
    "\n",
    "arr.dtype | Returns type of elements in arr\n",
    "\n",
    "arr.astype(dtype) | Convert arr elements to type dtype\n",
    "\n",
    "arr.tolist() | Convert arr to a Python list\n",
    "\n",
    "np.info(np.eye) | View documentation for np.eye"
   ]
  },
  {
   "cell_type": "markdown",
   "metadata": {},
   "source": [
    "#### Copying/sorting/reshaping\n",
    "\n",
    "np.copy(arr) | Copies arr to new memory\n",
    "\n",
    "arr.view(dtype) | Creates view of arr elements with type dtype\n",
    "\n",
    "arr.sort() | Sorts arr\n",
    "\n",
    "arr.sort(axis=0) | Sorts specific axis of arr\n",
    "\n",
    "two_d_arr.flatten() | Flattens 2D array two_d_arr to 1D\n",
    "\n",
    "arr.T | Transposes arr (rows become columns and vice versa)\n",
    "\n",
    "arr.reshape(3,4) | Reshapes arr to 3 rows, 4 columns without changing data\n",
    "\n",
    "arr.resize((5,6)) | Changes arr shape to 5x6 and fills new values with 0"
   ]
  },
  {
   "cell_type": "markdown",
   "metadata": {},
   "source": [
    "#### Adding/removing Elements\n",
    "\n",
    "np.append(arr,values) | Appends values to end of arr\n",
    "\n",
    "np.insert(arr,2,values) | Inserts values into arr before index 2\n",
    "\n",
    "np.delete(arr,3,axis=0) | Deletes row on index 3 of arr\n",
    "\n",
    "np.delete(arr,4,axis=1) | Deletes column on index 4 of arr"
   ]
  },
  {
   "cell_type": "markdown",
   "metadata": {},
   "source": [
    "#### Combining/splitting\n",
    "\n",
    "np.concatenate((arr1,arr2),axis=0) | Adds arr2 as rows to the end of arr1\n",
    "\n",
    "np.concatenate((arr1,arr2),axis=1) | Adds arr2 as columns to end of arr1\n",
    "\n",
    "np.split(arr,3) | Splits arr into 3 sub-arrays\n",
    "\n",
    "np.hsplit(arr,5) | Splits arr horizontally on the 5th index"
   ]
  },
  {
   "cell_type": "markdown",
   "metadata": {},
   "source": [
    "# Indexing/slicing/subsetting\n",
    "\n",
    "arr[5] | Returns the element at index 5\n",
    "\n",
    "arr[2,5] | Returns the 2D array element on index [2][5]\n",
    "\n",
    "arr[1]=4 | Assigns array element on index 1 the value 4\n",
    "\n",
    "arr[1,3]=10 | Assigns array element on index [1][3] the value 10\n",
    "\n",
    "arr[0:3] | Returns the elements at indices 0,1,2 (On a 2D array: returns rows 0,1,2)\n",
    "\n",
    "arr[0:3,4] | Returns the elements on rows 0,1,2 at column 4\n",
    "\n",
    "arr[:2] | Returns the elements at indices 0,1 (On a 2D array: returns rows 0,1)\n",
    "\n",
    "arr[:,1] | Returns the elements at index 1 on all rows\n",
    "\n",
    "arr<5 | Returns an array with boolean values\n",
    "(arr1<3) & (arr2>5) | Returns an array with boolean values\n",
    "\n",
    "~arr | Inverts a boolean array\n",
    "\n",
    "arr[arr<5] | Returns array elements smaller than 5"
   ]
  },
  {
   "cell_type": "markdown",
   "metadata": {},
   "source": [
    "# Scalar Math\n",
    "\n",
    "np.add(arr,1) | Add 1 to each array element\n",
    "\n",
    "np.subtract(arr,2) | Subtract 2 from each array element\n",
    "\n",
    "np.multiply(arr,3) | Multiply each array element by 3\n",
    "\n",
    "np.divide(arr,4) | Divide each array element by 4 (returns np.nan for division by zero)\n",
    "\n",
    "np.power(arr,5) | Raise each array element to the 5th power"
   ]
  },
  {
   "cell_type": "markdown",
   "metadata": {},
   "source": [
    "# Vector Math\n",
    "\n",
    "np.add(arr1,arr2) | Elementwise add arr2 to arr1\n",
    "\n",
    "np.subtract(arr1,arr2) | Elementwise subtract arr2 from arr1\n",
    "\n",
    "np.multiply(arr1,arr2) | Elementwise multiply arr1 by arr2\n",
    "\n",
    "np.divide(arr1,arr2) | Elementwise divide arr1 by arr2\n",
    "\n",
    "np.power(arr1,arr2) | Elementwise raise arr1 raised to the power of arr2\n",
    "\n",
    "np.array_equal(arr1,arr2) | Returns True if the arrays have the same elements and shape\n",
    "\n",
    "np.sqrt(arr) | Square root of each element in the array\n",
    "\n",
    "np.sin(arr) | Sine of each element in the array\n",
    "\n",
    "np.log(arr) | Natural log of each element in the array\n",
    "\n",
    "np.abs(arr) | Absolute value of each element in the array\n",
    "\n",
    "np.ceil(arr) | Rounds up to the nearest int\n",
    "\n",
    "np.floor(arr) | Rounds down to the nearest int\n",
    "\n",
    "np.round(arr) | Rounds to the nearest int\n",
    "\n"
   ]
  },
  {
   "cell_type": "markdown",
   "metadata": {},
   "source": [
    "# Statistics\n",
    "\n",
    "np.mean(arr,axis=0) | Returns mean along specific axis # horizontal representation\n",
    "\n",
    "arr.sum() | Returns sum of arr\n",
    "\n",
    "arr.min() | Returns minimum value of arr\n",
    "\n",
    "arr.max(axis=0) | Returns maximum value of specific axis\n",
    "\n",
    "np.var(arr) | Returns the variance of array\n",
    "\n",
    "np.std(arr,axis=1) | Returns the standard deviation of specific axis\n",
    "\n",
    "arr.corrcoef() | Returns correlation coefficient of array"
   ]
  },
  {
   "cell_type": "code",
   "execution_count": 2,
   "metadata": {},
   "outputs": [],
   "source": [
    "import numpy as np\n",
    "#pip install numpy"
   ]
  },
  {
   "cell_type": "markdown",
   "metadata": {},
   "source": [
    "## Creating Arrays"
   ]
  },
  {
   "cell_type": "code",
   "execution_count": null,
   "metadata": {},
   "outputs": [],
   "source": [
    "my_list = [0,1,2,3,4]\n",
    "#dir(my_list)\n",
    "type(my_list)"
   ]
  },
  {
   "cell_type": "code",
   "execution_count": null,
   "metadata": {},
   "outputs": [],
   "source": [
    "arr = np.array(my_list)"
   ]
  },
  {
   "cell_type": "code",
   "execution_count": null,
   "metadata": {},
   "outputs": [],
   "source": [
    "type(arr)"
   ]
  },
  {
   "cell_type": "code",
   "execution_count": null,
   "metadata": {
    "scrolled": true
   },
   "outputs": [],
   "source": [
    "arr=np.arange(0,10)## create an array with a range containing the lower and upper bound as mentioned\n",
    "arr"
   ]
  },
  {
   "cell_type": "code",
   "execution_count": 5,
   "metadata": {},
   "outputs": [
    {
     "data": {
      "text/plain": [
       "array([1, 4, 7])"
      ]
     },
     "execution_count": 5,
     "metadata": {},
     "output_type": "execute_result"
    }
   ],
   "source": [
    "np.arange(1,10,3) ## Print all  numbers with step size 3"
   ]
  },
  {
   "cell_type": "code",
   "execution_count": null,
   "metadata": {},
   "outputs": [],
   "source": [
    "np.zeros((5,5)) ## create a table with a dimension of 5*5 containing zeros"
   ]
  },
  {
   "cell_type": "code",
   "execution_count": null,
   "metadata": {},
   "outputs": [],
   "source": [
    "np.ones((2,4)) ## create a table with a dimension of 2*4 [2 rows and 4 columns] with ones"
   ]
  },
  {
   "cell_type": "code",
   "execution_count": 7,
   "metadata": {},
   "outputs": [
    {
     "data": {
      "text/plain": [
       "array([[0.42898384, 0.90685469, 0.68350372, 0.70088964, 0.98928258,\n",
       "        0.13914739, 0.72208203, 0.103993  , 0.45266851, 0.40912292,\n",
       "        0.78411895, 0.11730678, 0.22944222, 0.33302463, 0.62294515,\n",
       "        0.16193552, 0.89829681, 0.0173574 , 0.85432615, 0.67827564,\n",
       "        0.84025906, 0.2083101 , 0.43350904, 0.53957473, 0.89131421,\n",
       "        0.02451653, 0.39005619, 0.3576378 , 0.99231889, 0.134943  ,\n",
       "        0.61898677, 0.66725086, 0.73606281, 0.67187108, 0.03902272,\n",
       "        0.09118   , 0.01910867, 0.22567499, 0.63114391, 0.60450913,\n",
       "        0.05436836, 0.88765665, 0.60901903, 0.11998026, 0.5545504 ,\n",
       "        0.61204867, 0.72329903, 0.60536952, 0.74887853, 0.45329256,\n",
       "        0.23043667, 0.18814882, 0.67743418, 0.16101987, 0.89285413,\n",
       "        0.22767707, 0.78259278, 0.73861698, 0.24860081, 0.34233168,\n",
       "        0.10408033, 0.35655336, 0.39201435, 0.15290557, 0.24600582,\n",
       "        0.29948745, 0.40228475, 0.34780055, 0.56651282, 0.52043064,\n",
       "        0.5444996 , 0.59656917, 0.55709965, 0.86893762, 0.64789149,\n",
       "        0.28981991, 0.11059616, 0.75714478, 0.73376618, 0.53949857,\n",
       "        0.24727632, 0.38825205, 0.06881128, 0.06290529, 0.11098327,\n",
       "        0.56683852, 0.43040703, 0.44804101, 0.68969527, 0.40415037,\n",
       "        0.5967555 , 0.89571165, 0.04047952, 0.46010228, 0.63472773,\n",
       "        0.80961863, 0.89004733, 0.78987151, 0.14930097, 0.25693271],\n",
       "       [0.39504805, 0.09423382, 0.24313842, 0.03012835, 0.56348275,\n",
       "        0.01216682, 0.33634152, 0.15787751, 0.5776689 , 0.80039947,\n",
       "        0.88047575, 0.97979942, 0.43224959, 0.12690454, 0.44832556,\n",
       "        0.39068308, 0.04219023, 0.77332633, 0.04073772, 0.77931845,\n",
       "        0.68470796, 0.58330379, 0.03358922, 0.23693226, 0.95969073,\n",
       "        0.01320112, 0.30329415, 0.61182455, 0.46312075, 0.03321114,\n",
       "        0.76480382, 0.95914118, 0.99687067, 0.31407989, 0.90706125,\n",
       "        0.18680939, 0.83613781, 0.84837836, 0.58800417, 0.05785819,\n",
       "        0.40348767, 0.49948016, 0.74332336, 0.53055332, 0.01850642,\n",
       "        0.99365475, 0.27309303, 0.36793064, 0.82863389, 0.15150051,\n",
       "        0.3404585 , 0.14758302, 0.75757677, 0.27278042, 0.64230567,\n",
       "        0.1121049 , 0.73297213, 0.92906444, 0.35748786, 0.48107979,\n",
       "        0.1684239 , 0.86443934, 0.42550044, 0.14840973, 0.40659717,\n",
       "        0.70526148, 0.44493579, 0.14263927, 0.60736006, 0.75464977,\n",
       "        0.52966972, 0.81479728, 0.73710534, 0.27996324, 0.05769358,\n",
       "        0.68482945, 0.7466329 , 0.33950125, 0.7826439 , 0.4224872 ,\n",
       "        0.37919456, 0.7438313 , 0.69325965, 0.94912126, 0.25119447,\n",
       "        0.02498366, 0.99207632, 0.67063931, 0.15124336, 0.35330036,\n",
       "        0.4149593 , 0.43995975, 0.66639907, 0.56385383, 0.71854997,\n",
       "        0.81600381, 0.75861352, 0.41565397, 0.81763129, 0.45291481]])"
      ]
     },
     "execution_count": 7,
     "metadata": {},
     "output_type": "execute_result"
    }
   ],
   "source": [
    "np.random.rand(2,100) ## generate a random integer between 0-1"
   ]
  },
  {
   "cell_type": "code",
   "execution_count": 3,
   "metadata": {},
   "outputs": [
    {
     "data": {
      "text/plain": [
       "array([[9, 7, 8],\n",
       "       [8, 5, 5],\n",
       "       [3, 2, 1]])"
      ]
     },
     "execution_count": 3,
     "metadata": {},
     "output_type": "execute_result"
    }
   ],
   "source": [
    "np.random.randint(0,10,(3,3)) ## create random integers between 0-10 and form 3*3 matrix"
   ]
  },
  {
   "cell_type": "code",
   "execution_count": null,
   "metadata": {},
   "outputs": [],
   "source": [
    "np.linspace(0,100,10) ## create 10 values between 0-100 which are equally spaced"
   ]
  },
  {
   "cell_type": "code",
   "execution_count": null,
   "metadata": {},
   "outputs": [],
   "source": [
    "np.linspace(0,10,101) ## create 101 values between 0-100 and are equally spaced"
   ]
  },
  {
   "cell_type": "markdown",
   "metadata": {},
   "source": [
    "## Operations"
   ]
  },
  {
   "cell_type": "code",
   "execution_count": null,
   "metadata": {
    "scrolled": true
   },
   "outputs": [],
   "source": [
    "np.random.seed(1)  ## same random data\n",
    "arr = np.random.randint(0,100,10) ## 10 random points between 0-100\n",
    "arr"
   ]
  },
  {
   "cell_type": "code",
   "execution_count": null,
   "metadata": {
    "scrolled": false
   },
   "outputs": [],
   "source": [
    "arr2 = np.random.randint(0,100,10)\n",
    "arr2"
   ]
  },
  {
   "cell_type": "code",
   "execution_count": null,
   "metadata": {},
   "outputs": [],
   "source": [
    "arr = np.array(my_list)\n",
    "arr"
   ]
  },
  {
   "cell_type": "code",
   "execution_count": null,
   "metadata": {},
   "outputs": [],
   "source": [
    "arr.max()"
   ]
  },
  {
   "cell_type": "code",
   "execution_count": null,
   "metadata": {},
   "outputs": [],
   "source": [
    "dir(arr)"
   ]
  },
  {
   "cell_type": "code",
   "execution_count": null,
   "metadata": {},
   "outputs": [],
   "source": [
    "arr.min()"
   ]
  },
  {
   "cell_type": "code",
   "execution_count": null,
   "metadata": {},
   "outputs": [],
   "source": [
    "arr.mean()"
   ]
  },
  {
   "cell_type": "code",
   "execution_count": null,
   "metadata": {},
   "outputs": [],
   "source": [
    "arr.argmin() ## index of minimum value in the array"
   ]
  },
  {
   "cell_type": "code",
   "execution_count": null,
   "metadata": {},
   "outputs": [],
   "source": [
    "arr.argmax() ## index of maximum value in the array"
   ]
  },
  {
   "cell_type": "code",
   "execution_count": null,
   "metadata": {},
   "outputs": [],
   "source": [
    "arr2.reshape(5,2)# check with different values"
   ]
  },
  {
   "cell_type": "markdown",
   "metadata": {},
   "source": [
    "## Indexing"
   ]
  },
  {
   "cell_type": "code",
   "execution_count": null,
   "metadata": {},
   "outputs": [],
   "source": [
    "mat = np.arange(0,100).reshape(10,10)\n",
    "print(mat)"
   ]
  },
  {
   "cell_type": "code",
   "execution_count": null,
   "metadata": {},
   "outputs": [],
   "source": [
    "row = 6\n",
    "col = 3\n",
    "print(mat[row,:col]) ## Starting from 0. Only print the particular row. Print 6th row. Index=5"
   ]
  },
  {
   "cell_type": "code",
   "execution_count": null,
   "metadata": {},
   "outputs": [],
   "source": [
    "print(\"\\n\")\n",
    "print(mat[:2]) ## Print all the subset of matrix"
   ]
  },
  {
   "cell_type": "code",
   "execution_count": null,
   "metadata": {},
   "outputs": [],
   "source": [
    "print(mat[1:3])"
   ]
  },
  {
   "cell_type": "code",
   "execution_count": null,
   "metadata": {},
   "outputs": [],
   "source": [
    "print(mat[1:3])"
   ]
  },
  {
   "cell_type": "code",
   "execution_count": null,
   "metadata": {},
   "outputs": [],
   "source": [
    "mat1=mat[:,1] ## 4th column\n",
    "mat2=mat[:,2] ## 3rd column\n",
    "print(mat1)\n",
    "print(\"\\n\")\n",
    "print(mat2)"
   ]
  },
  {
   "cell_type": "code",
   "execution_count": null,
   "metadata": {},
   "outputs": [],
   "source": [
    "print(mat[1,:3])"
   ]
  },
  {
   "cell_type": "code",
   "execution_count": null,
   "metadata": {},
   "outputs": [],
   "source": []
  },
  {
   "cell_type": "code",
   "execution_count": null,
   "metadata": {},
   "outputs": [],
   "source": [
    "## concat matrix\n",
    "mat3=np.concatenate((mat1,mat2))\n",
    "print(mat3)"
   ]
  },
  {
   "cell_type": "code",
   "execution_count": null,
   "metadata": {},
   "outputs": [],
   "source": [
    "## Reshape matrix\n",
    "mat3=mat3.reshape(5,10)\n",
    "print(mat3)"
   ]
  },
  {
   "cell_type": "code",
   "execution_count": null,
   "metadata": {},
   "outputs": [],
   "source": [
    "row = 4\n",
    "col = 4\n",
    "mat3[row,col] \n",
    "\n",
    "row1=4\n",
    "col1=4\n",
    "mat3[row1,col1]"
   ]
  },
  {
   "cell_type": "code",
   "execution_count": null,
   "metadata": {},
   "outputs": [],
   "source": [
    "# With Slices\n",
    "mat3[:,col]"
   ]
  },
  {
   "cell_type": "markdown",
   "metadata": {},
   "source": [
    "## Masking"
   ]
  },
  {
   "cell_type": "code",
   "execution_count": null,
   "metadata": {},
   "outputs": [],
   "source": [
    "mat > 50"
   ]
  },
  {
   "cell_type": "code",
   "execution_count": null,
   "metadata": {},
   "outputs": [],
   "source": [
    "mat[mat>49].reshape(10,5)"
   ]
  },
  {
   "cell_type": "code",
   "execution_count": null,
   "metadata": {},
   "outputs": [],
   "source": [
    "arr=mat[mat>49]\n",
    "arr"
   ]
  },
  {
   "cell_type": "code",
   "execution_count": null,
   "metadata": {},
   "outputs": [],
   "source": [
    "arr.reshape(10,5)\n"
   ]
  },
  {
   "cell_type": "code",
   "execution_count": null,
   "metadata": {},
   "outputs": [],
   "source": []
  }
 ],
 "metadata": {
  "kernelspec": {
   "display_name": "Python 3",
   "language": "python",
   "name": "python3"
  },
  "language_info": {
   "codemirror_mode": {
    "name": "ipython",
    "version": 3
   },
   "file_extension": ".py",
   "mimetype": "text/x-python",
   "name": "python",
   "nbconvert_exporter": "python",
   "pygments_lexer": "ipython3",
   "version": "3.7.6"
  }
 },
 "nbformat": 4,
 "nbformat_minor": 2
}
