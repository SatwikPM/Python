{
 "cells": [
  {
   "cell_type": "markdown",
   "metadata": {},
   "source": [
    "## Creating a Pandas DataFrame"
   ]
  },
  {
   "cell_type": "code",
   "execution_count": 1,
   "metadata": {},
   "outputs": [
    {
     "name": "stdout",
     "output_type": "stream",
     "text": [
      "        0\n",
      "0      It\n",
      "1      Is\n",
      "2  Sunday\n",
      "3   Today\n",
      "4    Time\n",
      "5      To\n",
      "6   Learn\n"
     ]
    }
   ],
   "source": [
    "# import pandas as pd\n",
    "import pandas as pd\n",
    " \n",
    "# list of strings\n",
    "lst = ['It', 'Is', 'Sunday', 'Today', \n",
    "            'Time', 'To', 'Learn']\n",
    " \n",
    "# Calling DataFrame constructor on list\n",
    "df = pd.DataFrame(lst)\n",
    "print(df)"
   ]
  },
  {
   "cell_type": "markdown",
   "metadata": {},
   "source": [
    " \n",
    "Creating DataFrame from dict of ndarray/lists: To create DataFrame from dict of narray/list, all the narray must be of same length. If index is passed then the length index should be equal to the length of arrays. If no index is passed, then by default, index will be range(n) where n is the array length."
   ]
  },
  {
   "cell_type": "code",
   "execution_count": 2,
   "metadata": {},
   "outputs": [
    {
     "name": "stdout",
     "output_type": "stream",
     "text": [
      "    Name  Age\n",
      "0    Tom   20\n",
      "1   nick   21\n",
      "2  krish   19\n",
      "3   jack   18\n"
     ]
    }
   ],
   "source": [
    "# Python code demonstrate creating \n",
    "# DataFrame from dict narray / lists \n",
    "# By default addresses.\n",
    " \n",
    "\n",
    "# intialise data of lists.\n",
    "data = {'Name':['Tom', 'nick', 'krish', 'jack'],\n",
    "        'Age':[20, 21, 19, 18]}\n",
    " \n",
    "# Create DataFrame\n",
    "df = pd.DataFrame(data)\n",
    " \n",
    "# Print the output.\n",
    "print(df)"
   ]
  },
  {
   "cell_type": "markdown",
   "metadata": {},
   "source": [
    "Dealing with Rows and Columns"
   ]
  },
  {
   "cell_type": "markdown",
   "metadata": {},
   "source": [
    "Column Selection: In Order to select a column in Pandas DataFrame, we can either access the columns by calling them by their columns name."
   ]
  },
  {
   "cell_type": "code",
   "execution_count": 8,
   "metadata": {},
   "outputs": [
    {
     "name": "stdout",
     "output_type": "stream",
     "text": [
      "     Name  Age    Address Qualification\n",
      "0     Jai   27      Delhi           Msc\n",
      "1  Princi   24     Kanpur            MA\n",
      "2  Gaurav   22  Allahabad           MCA\n",
      "3    Anuj   32    Kannauj           Phd\n",
      "\n",
      "\n",
      "     Address  Age\n",
      "0      Delhi   27\n",
      "1     Kanpur   24\n",
      "2  Allahabad   22\n",
      "3    Kannauj   32\n"
     ]
    }
   ],
   "source": [
    "# Define a dictionary containing employee data\n",
    "data = {'Name':['Jai', 'Princi', 'Gaurav', 'Anuj'],\n",
    "        'Age':[27, 24, 22, 32],\n",
    "        'Address':['Delhi', 'Kanpur', 'Allahabad', 'Kannauj'],\n",
    "        'Qualification':['Msc', 'MA', 'MCA', 'Phd']}\n",
    " \n",
    "# Convert the dictionary into DataFrame \n",
    "df = pd.DataFrame(data)\n",
    "print(df)\n",
    "# select two columns\n",
    "print('\\n')\n",
    "print(df[['Address', 'Age']])"
   ]
  },
  {
   "cell_type": "markdown",
   "metadata": {},
   "source": [
    "Row Selection: Pandas provide a unique method to retrieve rows from a Data frame. DataFrame.loc[] method is used to retrieve rows from Pandas DataFrame. Rows can also be selected by passing integer location to an iloc[] function."
   ]
  },
  {
   "cell_type": "code",
   "execution_count": 18,
   "metadata": {},
   "outputs": [
    {
     "name": "stdout",
     "output_type": "stream",
     "text": [
      "<class 'pandas.core.frame.DataFrame'>\n",
      "RangeIndex: 458 entries, 0 to 457\n",
      "Data columns (total 9 columns):\n",
      " #   Column    Non-Null Count  Dtype  \n",
      "---  ------    --------------  -----  \n",
      " 0   Name      457 non-null    object \n",
      " 1   Team      457 non-null    object \n",
      " 2   Number    457 non-null    float64\n",
      " 3   Position  457 non-null    object \n",
      " 4   Age       457 non-null    float64\n",
      " 5   Height    457 non-null    object \n",
      " 6   Weight    457 non-null    float64\n",
      " 7   College   373 non-null    object \n",
      " 8   Salary    446 non-null    float64\n",
      "dtypes: float64(4), object(5)\n",
      "memory usage: 32.3+ KB\n"
     ]
    }
   ],
   "source": [
    "data = pd.read_csv(\"nba.csv\")\n",
    "data.info()"
   ]
  },
  {
   "cell_type": "code",
   "execution_count": 15,
   "metadata": {},
   "outputs": [
    {
     "name": "stdout",
     "output_type": "stream",
     "text": [
      "Team        Boston Celtics\n",
      "Number                   0\n",
      "Position                PG\n",
      "Age                     25\n",
      "Height                 6-2\n",
      "Weight                 180\n",
      "College              Texas\n",
      "Salary         7.73034e+06\n",
      "Name: Avery Bradley, dtype: object \n",
      "\n",
      "\n",
      " Team        Boston Celtics\n",
      "Number                  28\n",
      "Position                SG\n",
      "Age                     22\n",
      "Height                 6-5\n",
      "Weight                 185\n",
      "College      Georgia State\n",
      "Salary         1.14864e+06\n",
      "Name: R.J. Hunter, dtype: object\n"
     ]
    }
   ],
   "source": [
    "\n",
    " \n",
    "# making data frame from csv file\n",
    "data = pd.read_csv(\"nba.csv\" , index_col =\"Name\")#, index_col =\"Name\"\n",
    "\n",
    "# retrieving row by loc method\n",
    "first = data.loc[\"Avery Bradley\"]\n",
    "second = data.loc[\"R.J. Hunter\"]\n",
    "print(first, \"\\n\\n\\n\", second)\n",
    "#Avery Bradley,Boston Celtics,0.0,PG,25.0,6-2,180.0,Texas,7730337.0"
   ]
  },
  {
   "cell_type": "code",
   "execution_count": 11,
   "metadata": {},
   "outputs": [
    {
     "data": {
      "text/html": [
       "<div>\n",
       "<style scoped>\n",
       "    .dataframe tbody tr th:only-of-type {\n",
       "        vertical-align: middle;\n",
       "    }\n",
       "\n",
       "    .dataframe tbody tr th {\n",
       "        vertical-align: top;\n",
       "    }\n",
       "\n",
       "    .dataframe thead th {\n",
       "        text-align: right;\n",
       "    }\n",
       "</style>\n",
       "<table border=\"1\" class=\"dataframe\">\n",
       "  <thead>\n",
       "    <tr style=\"text-align: right;\">\n",
       "      <th></th>\n",
       "      <th>Number</th>\n",
       "      <th>Age</th>\n",
       "      <th>Weight</th>\n",
       "      <th>Salary</th>\n",
       "    </tr>\n",
       "  </thead>\n",
       "  <tbody>\n",
       "    <tr>\n",
       "      <th>count</th>\n",
       "      <td>457.000000</td>\n",
       "      <td>457.000000</td>\n",
       "      <td>457.000000</td>\n",
       "      <td>4.460000e+02</td>\n",
       "    </tr>\n",
       "    <tr>\n",
       "      <th>mean</th>\n",
       "      <td>17.678337</td>\n",
       "      <td>26.938731</td>\n",
       "      <td>221.522976</td>\n",
       "      <td>4.842684e+06</td>\n",
       "    </tr>\n",
       "    <tr>\n",
       "      <th>std</th>\n",
       "      <td>15.966090</td>\n",
       "      <td>4.404016</td>\n",
       "      <td>26.368343</td>\n",
       "      <td>5.229238e+06</td>\n",
       "    </tr>\n",
       "    <tr>\n",
       "      <th>min</th>\n",
       "      <td>0.000000</td>\n",
       "      <td>19.000000</td>\n",
       "      <td>161.000000</td>\n",
       "      <td>3.088800e+04</td>\n",
       "    </tr>\n",
       "    <tr>\n",
       "      <th>25%</th>\n",
       "      <td>5.000000</td>\n",
       "      <td>24.000000</td>\n",
       "      <td>200.000000</td>\n",
       "      <td>1.044792e+06</td>\n",
       "    </tr>\n",
       "    <tr>\n",
       "      <th>50%</th>\n",
       "      <td>13.000000</td>\n",
       "      <td>26.000000</td>\n",
       "      <td>220.000000</td>\n",
       "      <td>2.839073e+06</td>\n",
       "    </tr>\n",
       "    <tr>\n",
       "      <th>75%</th>\n",
       "      <td>25.000000</td>\n",
       "      <td>30.000000</td>\n",
       "      <td>240.000000</td>\n",
       "      <td>6.500000e+06</td>\n",
       "    </tr>\n",
       "    <tr>\n",
       "      <th>max</th>\n",
       "      <td>99.000000</td>\n",
       "      <td>40.000000</td>\n",
       "      <td>307.000000</td>\n",
       "      <td>2.500000e+07</td>\n",
       "    </tr>\n",
       "  </tbody>\n",
       "</table>\n",
       "</div>"
      ],
      "text/plain": [
       "           Number         Age      Weight        Salary\n",
       "count  457.000000  457.000000  457.000000  4.460000e+02\n",
       "mean    17.678337   26.938731  221.522976  4.842684e+06\n",
       "std     15.966090    4.404016   26.368343  5.229238e+06\n",
       "min      0.000000   19.000000  161.000000  3.088800e+04\n",
       "25%      5.000000   24.000000  200.000000  1.044792e+06\n",
       "50%     13.000000   26.000000  220.000000  2.839073e+06\n",
       "75%     25.000000   30.000000  240.000000  6.500000e+06\n",
       "max     99.000000   40.000000  307.000000  2.500000e+07"
      ]
     },
     "execution_count": 11,
     "metadata": {},
     "output_type": "execute_result"
    }
   ],
   "source": [
    "data.describe()"
   ]
  },
  {
   "cell_type": "markdown",
   "metadata": {},
   "source": [
    "Indexing and Selecting Data\n"
   ]
  },
  {
   "cell_type": "markdown",
   "metadata": {},
   "source": [
    "Indexing in pandas means simply selecting particular rows and columns of data from a DataFrame. Indexing could mean selecting all the rows and some of the columns, some of the rows and all of the columns, or some of each of the rows and columns. Indexing can also be known as Subset Selection."
   ]
  },
  {
   "cell_type": "markdown",
   "metadata": {},
   "source": [
    "Indexing a Dataframe using indexing operator [] :\n",
    "Indexing operator is used to refer to the square brackets following an object. The .loc and .iloc indexers also use the indexing operator to make selections. In this indexing operator to refer to df[]."
   ]
  },
  {
   "cell_type": "markdown",
   "metadata": {},
   "source": [
    "Selecting a single columns\n",
    "\n",
    "In order to select a single column, we simply put the name of the column in-between the brackets"
   ]
  },
  {
   "cell_type": "code",
   "execution_count": null,
   "metadata": {},
   "outputs": [],
   "source": [
    "\n",
    "# retrieving columns by indexing operator\n",
    "first = data[\"Age\"]\n",
    "print(first)\n",
    "print('\\n')\n",
    "first1 = data[[\"Age\", \"College\", \"Salary\"]] \n",
    "\n",
    "print(first1)"
   ]
  },
  {
   "cell_type": "markdown",
   "metadata": {},
   "source": [
    "Indexing a DataFrame using .loc[ ] :\n",
    "\n",
    "This function selects data by the label of the rows and columns. The df.loc indexer selects data in a different way than just the indexing operator. It can select subsets of rows or columns. It can also simultaneously select subsets of rows and columns."
   ]
  },
  {
   "cell_type": "code",
   "execution_count": null,
   "metadata": {},
   "outputs": [],
   "source": [
    "#In order to select a single row using .loc[], \n",
    "#we put a single row label in a .loc function.\n",
    "# retrieving row by loc method\n",
    "first = data.loc[\"Avery Bradley\"]\n",
    "second = data.loc[\"R.J. Hunter\"]\n",
    " \n",
    " \n",
    "print(first, \"\\n\\n\\n\", second)\n",
    "\n"
   ]
  },
  {
   "cell_type": "code",
   "execution_count": null,
   "metadata": {},
   "outputs": [],
   "source": [
    "# retrieving multiple rows by loc method \n",
    "first = data.loc[[\"Avery Bradley\", \"R.J. Hunter\"]] \n",
    "print(first)"
   ]
  },
  {
   "cell_type": "code",
   "execution_count": null,
   "metadata": {},
   "outputs": [],
   "source": [
    "# retrieving two rows and three columns by loc method \n",
    "first = data.loc[[\"Avery Bradley\", \"R.J. Hunter\"], \n",
    "                   [\"Team\", \"Number\", \"Position\"]] \n",
    "     \n",
    "print(first) \n",
    "data.head()"
   ]
  },
  {
   "cell_type": "code",
   "execution_count": null,
   "metadata": {},
   "outputs": [],
   "source": [
    "# retrieving all rows and some columns by loc method \n",
    "first = data.loc[:, [\"Team\", \"Number\", \"Position\"]] \n",
    "   \n",
    "  \n",
    "print(first) "
   ]
  },
  {
   "cell_type": "markdown",
   "metadata": {},
   "source": [
    "Indexing a DataFrame using .iloc[ ] :\n",
    "    \n",
    "This function allows us to retrieve rows and columns by position. In order to do that, we’ll need to specify the positions of the rows that we want, and the positions of the columns that we want as well. The df.iloc indexer is very similar to df.loc but only uses integer locations to make its selections."
   ]
  },
  {
   "cell_type": "code",
   "execution_count": null,
   "metadata": {},
   "outputs": [],
   "source": [
    "# retrieving rows by iloc method \n",
    "row2 = data.iloc[3] \n",
    " \n",
    "print(row2)"
   ]
  },
  {
   "cell_type": "code",
   "execution_count": null,
   "metadata": {},
   "outputs": [],
   "source": [
    "# retrieving multiple rows by iloc method  \n",
    "row2 = data.iloc [[3, 5, 7]] \n",
    "  \n",
    "  \n",
    "row2 "
   ]
  },
  {
   "cell_type": "code",
   "execution_count": null,
   "metadata": {},
   "outputs": [],
   "source": [
    "# retrieving all rows and some columns by iloc method  \n",
    "row2 = data.iloc [:, [1, 2]] \n",
    "  \n",
    "  \n",
    "print(row2)"
   ]
  },
  {
   "cell_type": "code",
   "execution_count": null,
   "metadata": {},
   "outputs": [],
   "source": [
    "# dictionary of lists \n",
    "dict = {'name':[\"aparna\", \"pankaj\", \"sudhir\", \"Geeku\"], \n",
    "        'degree': [\"BCA\", \"BCA\", \"M.Tech\", \"BCA\"], \n",
    "        'score':[90, 40, 80, 98]} \n",
    "  \n",
    "# creating a dataframe  \n",
    "df = pd.DataFrame(dict) \n",
    "   \n",
    "# using a comparsion operator for filtering of data \n",
    "print(df['degree'] == 'BCA')"
   ]
  },
  {
   "cell_type": "code",
   "execution_count": null,
   "metadata": {},
   "outputs": [],
   "source": [
    "# making data frame from csv file \n",
    "data = pd.read_csv(\"nba.csv\", index_col =\"Name\") \n",
    "   \n",
    "# using greater than operator for filtering of data \n",
    "print(data['Age'] >= 25) \n",
    "data.head()"
   ]
  },
  {
   "cell_type": "code",
   "execution_count": null,
   "metadata": {},
   "outputs": [],
   "source": [
    "# dictionary of lists \n",
    "dict = {'name':[\"aparna\", \"pankaj\", \"sudhir\", \"Geeku\"], \n",
    "        'degree': [\"BCA\", \"BCA\", \"M.Tech\", \"BCA\"], \n",
    "        'score':[90, 40, 80, 98]} \n",
    "   \n",
    "  \n",
    "df = pd.DataFrame(dict, index = [0, 1, 2, 3]) \n",
    "  \n",
    "mask = df.index == 0\n",
    "  \n",
    "print(df[mask])"
   ]
  },
  {
   "cell_type": "code",
   "execution_count": null,
   "metadata": {},
   "outputs": [],
   "source": [
    "# making data frame from csv file \n",
    "data = pd.read_csv(\"nba1.1.csv\") \n",
    "  \n",
    "# giving a index to a dataframe \n",
    "df = pd.DataFrame(data, index = [0, 1, 2, 3, 4, 5, 6, \n",
    "                                 7, 8, 9, 10, 11, 12]) \n",
    "  \n",
    "# filtering data on index value \n",
    "mask = df.index > 7 \n",
    "  \n",
    "df[mask] "
   ]
  },
  {
   "cell_type": "markdown",
   "metadata": {},
   "source": [
    "# Working with Missing Data"
   ]
  },
  {
   "cell_type": "markdown",
   "metadata": {},
   "source": [
    "Missing Data can occur when no information is provided for one or more items or for a whole unit. Missing Data is a very big problem in real life scenario. Missing Data can also refer to as NA(Not Available) values in pandas"
   ]
  },
  {
   "cell_type": "markdown",
   "metadata": {},
   "source": [
    "Checking for missing values using isnull() and notnull() :\n",
    "\n",
    "In order to check missing values in Pandas DataFrame, we use a function isnull() and notnull(). Both function help in checking whether a value is NaN or not."
   ]
  },
  {
   "cell_type": "code",
   "execution_count": 19,
   "metadata": {},
   "outputs": [
    {
     "data": {
      "text/html": [
       "<div>\n",
       "<style scoped>\n",
       "    .dataframe tbody tr th:only-of-type {\n",
       "        vertical-align: middle;\n",
       "    }\n",
       "\n",
       "    .dataframe tbody tr th {\n",
       "        vertical-align: top;\n",
       "    }\n",
       "\n",
       "    .dataframe thead th {\n",
       "        text-align: right;\n",
       "    }\n",
       "</style>\n",
       "<table border=\"1\" class=\"dataframe\">\n",
       "  <thead>\n",
       "    <tr style=\"text-align: right;\">\n",
       "      <th></th>\n",
       "      <th>First Score</th>\n",
       "      <th>Second Score</th>\n",
       "      <th>Third Score</th>\n",
       "    </tr>\n",
       "  </thead>\n",
       "  <tbody>\n",
       "    <tr>\n",
       "      <th>0</th>\n",
       "      <td>False</td>\n",
       "      <td>False</td>\n",
       "      <td>True</td>\n",
       "    </tr>\n",
       "    <tr>\n",
       "      <th>1</th>\n",
       "      <td>False</td>\n",
       "      <td>False</td>\n",
       "      <td>False</td>\n",
       "    </tr>\n",
       "    <tr>\n",
       "      <th>2</th>\n",
       "      <td>True</td>\n",
       "      <td>False</td>\n",
       "      <td>False</td>\n",
       "    </tr>\n",
       "    <tr>\n",
       "      <th>3</th>\n",
       "      <td>False</td>\n",
       "      <td>True</td>\n",
       "      <td>False</td>\n",
       "    </tr>\n",
       "  </tbody>\n",
       "</table>\n",
       "</div>"
      ],
      "text/plain": [
       "   First Score  Second Score  Third Score\n",
       "0        False         False         True\n",
       "1        False         False        False\n",
       "2         True         False        False\n",
       "3        False          True        False"
      ]
     },
     "execution_count": 19,
     "metadata": {},
     "output_type": "execute_result"
    }
   ],
   "source": [
    "# dictionary of lists\n",
    "import numpy as np\n",
    "dict = {'First Score':[100, 90, np.nan, 95],\n",
    "        'Second Score': [30, 45, 56, np.nan],\n",
    "        'Third Score':[np.nan, 40, 80, 98]}\n",
    " \n",
    "# creating a dataframe from list\n",
    "df = pd.DataFrame(dict)\n",
    " \n",
    "# using isnull() function  \n",
    "df.isnull()"
   ]
  },
  {
   "cell_type": "markdown",
   "metadata": {},
   "source": [
    "Filling missing values using fillna(), replace() and interpolate() :\n",
    "\n",
    "In order to fill null values in a datasets, we use fillna(), replace() and interpolate() function these function replace NaN values with some value of their own. All these function help in filling a null values in datasets of a DataFrame. \n",
    "\n",
    "Interpolate() function is basically used to fill NA values in the dataframe but it uses various interpolation technique to fill the missing values rather than hard-coding the value."
   ]
  },
  {
   "cell_type": "code",
   "execution_count": 20,
   "metadata": {},
   "outputs": [
    {
     "data": {
      "text/html": [
       "<div>\n",
       "<style scoped>\n",
       "    .dataframe tbody tr th:only-of-type {\n",
       "        vertical-align: middle;\n",
       "    }\n",
       "\n",
       "    .dataframe tbody tr th {\n",
       "        vertical-align: top;\n",
       "    }\n",
       "\n",
       "    .dataframe thead th {\n",
       "        text-align: right;\n",
       "    }\n",
       "</style>\n",
       "<table border=\"1\" class=\"dataframe\">\n",
       "  <thead>\n",
       "    <tr style=\"text-align: right;\">\n",
       "      <th></th>\n",
       "      <th>First Score</th>\n",
       "      <th>Second Score</th>\n",
       "      <th>Third Score</th>\n",
       "    </tr>\n",
       "  </thead>\n",
       "  <tbody>\n",
       "    <tr>\n",
       "      <th>0</th>\n",
       "      <td>100.0</td>\n",
       "      <td>30.0</td>\n",
       "      <td>0.0</td>\n",
       "    </tr>\n",
       "    <tr>\n",
       "      <th>1</th>\n",
       "      <td>90.0</td>\n",
       "      <td>45.0</td>\n",
       "      <td>40.0</td>\n",
       "    </tr>\n",
       "    <tr>\n",
       "      <th>2</th>\n",
       "      <td>0.0</td>\n",
       "      <td>56.0</td>\n",
       "      <td>80.0</td>\n",
       "    </tr>\n",
       "    <tr>\n",
       "      <th>3</th>\n",
       "      <td>95.0</td>\n",
       "      <td>0.0</td>\n",
       "      <td>98.0</td>\n",
       "    </tr>\n",
       "  </tbody>\n",
       "</table>\n",
       "</div>"
      ],
      "text/plain": [
       "   First Score  Second Score  Third Score\n",
       "0        100.0          30.0          0.0\n",
       "1         90.0          45.0         40.0\n",
       "2          0.0          56.0         80.0\n",
       "3         95.0           0.0         98.0"
      ]
     },
     "execution_count": 20,
     "metadata": {},
     "output_type": "execute_result"
    }
   ],
   "source": [
    "# dictionary of lists\n",
    "dict = {'First Score':[100, 90, np.nan, 95],\n",
    "        'Second Score': [30, 45, 56, np.nan],\n",
    "        'Third Score':[np.nan, 40, 80, 98]}\n",
    " \n",
    "# creating a dataframe from dictionary\n",
    "df = pd.DataFrame(dict)\n",
    " \n",
    "# filling missing value using fillna()  \n",
    "df.fillna(0)"
   ]
  },
  {
   "cell_type": "markdown",
   "metadata": {},
   "source": [
    "Dropping missing values using dropna() :\n",
    "\n",
    "In order to drop a null values from a dataframe, we used dropna() function this fuction drop Rows/Columns of datasets with Null values in different ways."
   ]
  },
  {
   "cell_type": "code",
   "execution_count": 21,
   "metadata": {},
   "outputs": [
    {
     "name": "stdout",
     "output_type": "stream",
     "text": [
      "   First Score  Second Score  Third Score  Fourth Score\n",
      "0        100.0          30.0           52           NaN\n",
      "1         90.0           NaN           40           NaN\n",
      "2          NaN          45.0           80           NaN\n",
      "3         95.0          56.0           98          65.0\n",
      "\n",
      "\n",
      "TABLE AFTER DROPING THE NaN VALUES\n",
      "   First Score  Second Score  Third Score  Fourth Score\n",
      "3         95.0          56.0           98          65.0\n"
     ]
    }
   ],
   "source": [
    "# dictionary of lists\n",
    "dict = {'First Score':[100, 90, np.nan, 95],\n",
    "        'Second Score': [30, np.nan, 45, 56],\n",
    "        'Third Score':[52, 40, 80, 98],\n",
    "        'Fourth Score':[np.nan, np.nan, np.nan, 65]}\n",
    " \n",
    "# creating a dataframe from dictionary\n",
    "df = pd.DataFrame(dict)\n",
    "   \n",
    "print(df)\n",
    "\n",
    "#Now we drop rows with at least one Nan value (Null value)\n",
    "\n",
    " \n",
    "# using dropna() function  \n",
    "print('\\n')\n",
    "print(\"TABLE AFTER DROPING THE NaN VALUES\")\n",
    "\n",
    "print(df.dropna())"
   ]
  },
  {
   "cell_type": "markdown",
   "metadata": {},
   "source": [
    "# Iterating over rows and columns\n",
    "\n",
    "Iteration is a general term for taking each item of something, one after another. Pandas DataFrame consists of rows and columns so, in order to iterate over dataframe, we have to iterate a dataframe like a dictionary."
   ]
  },
  {
   "cell_type": "markdown",
   "metadata": {},
   "source": [
    "Iterating over rows :\n",
    "\n",
    "In order to iterate over rows, we can use three function iteritems(), iterrows(), itertuples() . These three function will help in iteration over rows."
   ]
  },
  {
   "cell_type": "code",
   "execution_count": null,
   "metadata": {},
   "outputs": [],
   "source": [
    "dict = {'name':[\"aparna\", \"pankaj\", \"sudhir\", \"Geeku\"],\n",
    "        'degree': [\"MBA\", \"BCA\", \"M.Tech\", \"MBA\"],\n",
    "        'score':[90, 40, 80, 98]}\n",
    " \n",
    "# creating a dataframe from a dictionary \n",
    "df = pd.DataFrame(dict)\n",
    "print(df)\n",
    "print('\\n') \n",
    "  \n",
    "\n",
    "\n",
    "# iterating over rows using iterrows() function \n",
    "for i, j in df.iterrows():\n",
    "    print(i, j)\n",
    "    print()"
   ]
  },
  {
   "cell_type": "markdown",
   "metadata": {},
   "source": [
    "Methods for indexing in DataFrame\n",
    "\n",
    "FUNCTION\tDESCRIPTION\n",
    "\n",
    "    Dataframe.head()\tReturn top n rows of a data frame.\n",
    "    Dataframe.tail()\tReturn bottom n rows of a data frame.\n",
    "    Dataframe.at[]\tAccess a single value for a row/column label pair.\n",
    "    Dataframe.iat[]\tAccess a single value for a row/column pair by integer position.\n",
    "    Dataframe.tail()\tPurely integer-location based indexing for selection by position.\n",
    "    DataFrame.lookup()\tLabel-based “fancy indexing” function for DataFrame.\n",
    "    DataFrame.pop()\tReturn item and drop from frame.\n",
    "    DataFrame.xs()\tReturns a cross-section (row(s) or column(s)) from the DataFrame.\n",
    "    DataFrame.get()\tGet item from object for given key (DataFrame column, Panel slice, etc.).\n",
    "    DataFrame.isin()\tReturn boolean DataFrame showing whether each element in the DataFrame is contained in values.\n",
    "    DataFrame.where()\tReturn an object of same shape as self and whose corresponding entries are from self where cond is True and otherwise are from other.\n",
    "    DataFrame.mask()\tReturn an object of same shape as self and whose corresponding entries are from self where cond is False and otherwise are from other.\n",
    "    DataFrame.query()\tQuery the columns of a frame with a boolean expression.\n",
    "    DataFrame.insert()\tInsert column into DataFrame at specified location.\n"
   ]
  },
  {
   "cell_type": "markdown",
   "metadata": {},
   "source": [
    "# DataFrame Methods:\n",
    "\n",
    "                FUNCTION\tDESCRIPTION\n",
    "    index()\t    Method returns index (row labels) of the DataFrame\n",
    "    insert()\tMethod inserts a column into a DataFrame\n",
    "    add()\t    Method returns addition of dataframe and other, element-wise                   (binary operator add)\n",
    "    sub()    \tMethod returns subtraction of dataframe and other, element-wise \n",
    "                (binary operator sub)\n",
    "    mul()\t    Method returns multiplication of dataframe and other, element-                 Wise (binary operator mul)\n",
    "    div()\t    Method returns floating division of dataframe and other, \n",
    "                element-wise (binary operator truediv)\n",
    "    unique()\tMethod extracts the unique values in the dataframe\n",
    "    nunique()\tMethod returns count of the unique values in the dataframe\n",
    "    value_counts()\tMethod counts the number of times each unique value occurs \n",
    "                within the Series\n",
    "    columns()\tMethod returns the column labels of the DataFrame\n",
    "    axes()\t    Method returns a list representing the axes of the DataFrame\n",
    "    isnull()\tMethod creates a Boolean Series for extracting rows with null \n",
    "                values\n",
    "    notnull()\tMethod creates a Boolean Series for extracting rows with non-\n",
    "                null values\n",
    "    between()\tMethod extracts rows where a column value falls in between a                   predefined range\n",
    "    isin()\t    Method extracts rows from a DataFrame where a column value                     exists in a predefined collection\n",
    "    dtypes()\tMethod returns a Series with the data type of each column. The                 result’s index is the original DataFrame’s columns\n",
    "    astype()\tMethod converts the data types in a Series\n",
    "    values()\tMethod returns a Numpy representation of the DataFrame i.e.     \n",
    "                only the values in the DataFrame will be returned, the axes                     labels will be removed\n",
    "    sort_values()- Set1, Set2\tMethod sorts a data frame in Ascending or      \n",
    "                Descending order of passed Column\n",
    "    sort_index() Method sorts the values in a DataFrame based on their index                    positions or labels instead of their values but sometimes a                    data frame is made out of two or more data frames and hence                    later index can be changed using this method\n",
    "    loc[]\t     Method retrieves rows based on index label\n",
    "    iloc[]\t     Method retrieves rows based on index position\n",
    "    ix[]\t     Method retrieves DataFrame rows based on either index label or                  index position. This method combines the best features of the                  .loc[] and .iloc[] methods\n",
    "    rename()\tMethod is called on a DataFrame to change the names of the                     index labels or column names\n",
    "    columns()\tMethod is an alternative attribute to change the coloumn name\n",
    "    drop()\t    Method is used to delete rows or columns from a DataFrame\n",
    "    pop()\t    Method is used to delete rows or columns from a DataFrame\n",
    "    sample()\tMethod pulls out a random sample of rows or columns from a                     DataFrame\n",
    "    nsmallest()\tMethod pulls out the rows with the smallest values in a column\n",
    "    nlargest()\tMethod pulls out the rows with the largest values in a column\n",
    "    shape()  \tMethod returns a tuple representing the dimensionality of the                   DataFrame\n",
    "    ndim()\t    Method returns an ‘int’ representing the number of axes / array                  dimensions.\n",
    "    Returns 1 if Series, otherwise returns 2 if DataFrame\n",
    "    dropna()\tMethod allows the user to analyze and drop Rows/Columns with                  Null values in different ways\n",
    "    fillna()\tMethod manages and let the user replace NaN values with some                   value of their own\n",
    "    rank()\t    Values in a Series can be ranked in order with this method\n",
    "    query()\t    Method is an alternate string-based syntax for extracting a                     subset from a DataFrame\n",
    "    copy()\t    Method creates an independent copy of a pandas object\n",
    "    duplicated()\tMethod creates a Boolean Series and uses it to extract rows                 that have duplicate values\n",
    "    drop_duplicates()\tMethod is an alternative option to identifying                         duplicate rows and removing them through filtering\n",
    "    set_index()\tMethod sets the DataFrame index (row labels) using one or more                        existing columns\n",
    "    reset_index()\tMethod resets index of a Data Frame. This method sets a                          list of integer ranging from 0 to length of data as index\n",
    "    where()\t     Method is used to check a Data Frame for one or more condition                  and return the result accordingly. By default, the rows not                    satisfying the condition are filled with NaN value"
   ]
  }
 ],
 "metadata": {
  "kernelspec": {
   "display_name": "Python 3",
   "language": "python",
   "name": "python3"
  },
  "language_info": {
   "codemirror_mode": {
    "name": "ipython",
    "version": 3
   },
   "file_extension": ".py",
   "mimetype": "text/x-python",
   "name": "python",
   "nbconvert_exporter": "python",
   "pygments_lexer": "ipython3",
   "version": "3.7.6"
  }
 },
 "nbformat": 4,
 "nbformat_minor": 2
}
