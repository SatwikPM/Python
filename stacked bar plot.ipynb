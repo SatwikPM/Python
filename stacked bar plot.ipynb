{
 "cells": [
  {
   "cell_type": "code",
   "execution_count": 6,
   "metadata": {},
   "outputs": [
    {
     "data": {
      "image/png": "[encoded data removed]",
      "text/plain": [
       "<Figure size 432x288 with 1 Axes>"
      ]
     },
     "metadata": {
      "needs_background": "light"
     },
     "output_type": "display_data"
    }
   ],
   "source": [
    "from matplotlib import pyplot as plt\n",
    "import numpy as np\n",
    "div=[\"Div-A\",\"Div-B\",\"Div-C\",\"Div-D\",\"Div-E\"]\n",
    "div_avg_marks=[78,82,73,65,68]\n",
    "boys_avg_marks=[68,67,77,61,70]\n",
    "\n",
    "index=np.arange(5)\n",
    "width=0.30\n",
    "plt.bar(div,div_avg_marks,width,color='green',label='Division Marks')\n",
    "plt.bar(index+width,boys_avg_marks,width,color='blue',label='Boys marks')\n",
    "plt.title(\"Horizontally Stacked Bar Graph\")\n",
    "plt.ylabel(\"Marks\")\n",
    "plt.xlabel(\"Division\")\n",
    "#plt.xticks(index+ width/2,div)\n",
    "#plt.legend(loc='best')\n",
    "plt.show()"
   ]
  },
  {
   "cell_type": "code",
   "execution_count": null,
   "metadata": {},
   "outputs": [],
   "source": []
  },
  {
   "cell_type": "code",
   "execution_count": null,
   "metadata": {},
   "outputs": [],
   "source": []
  }
 ],
 "metadata": {
  "kernelspec": {
   "display_name": "Python 3",
   "language": "python",
   "name": "python3"
  },
  "language_info": {
   "codemirror_mode": {
    "name": "ipython",
    "version": 3
   },
   "file_extension": ".py",
   "mimetype": "text/x-python",
   "name": "python",
   "nbconvert_exporter": "python",
   "pygments_lexer": "ipython3",
   "version": "3.7.3"
  }
 },
 "nbformat": 4,
 "nbformat_minor": 2
}
